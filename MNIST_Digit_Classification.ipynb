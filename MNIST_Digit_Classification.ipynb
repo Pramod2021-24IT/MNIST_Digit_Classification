{
 "cells": [
  {
   "cell_type": "markdown",
   "id": "6655086c-b3f0-4fb3-b286-9e54b8e35ac6",
   "metadata": {},
   "source": [
    "# Step 1: Importing necessary libraries"
   ]
  },
  {
   "cell_type": "code",
   "execution_count": 1,
   "id": "1ac7fe5c-9191-48f2-b2bb-dc9481acad12",
   "metadata": {},
   "outputs": [],
   "source": [
    "import numpy as np\n",
    "import matplotlib.pyplot as plt\n",
    "import tensorflow as tf\n",
    "from tensorflow import keras"
   ]
  },
  {
   "cell_type": "markdown",
   "id": "56aa80b3-205c-4507-96ef-314cc081c9a2",
   "metadata": {},
   "source": [
    "### Explanation:\r\n",
    "1. 'numpy' is imported to handle numerical computations efficiently.\n",
    "2. 'matplot.pyplot' is imported to plot graphs.\n",
    "3. 'tensorflow' is imported to work with neural networks and datasets.\n",
    "4. 'keras' from TensorFlow is imported to access the MNIST dataset and build neural network models.odels"
   ]
  },
  {
   "cell_type": "markdown",
   "id": "641f5c82-af16-45f5-9ccc-55a424e9e5fd",
   "metadata": {},
   "source": [
    "# Step 2: Loading the MNIST dataset"
   ]
  },
  {
   "cell_type": "code",
   "execution_count": 3,
   "id": "5b0c2706-a296-4360-a646-3fbaef02d783",
   "metadata": {},
   "outputs": [],
   "source": [
    "# load MNIST dataset\n",
    "digit_mnist = keras.datasets.mnist"
   ]
  },
  {
   "cell_type": "markdown",
   "id": "d5130e31-a158-4ffd-adff-dd5f4133c88b",
   "metadata": {},
   "source": [
    "# Step 3: Importing and Preprocessing data"
   ]
  },
  {
   "cell_type": "code",
   "execution_count": 4,
   "id": "01fc1074-5a8f-40c5-abb3-0968f0730b0d",
   "metadata": {},
   "outputs": [
    {
     "name": "stdout",
     "output_type": "stream",
     "text": [
      "Downloading data from https://storage.googleapis.com/tensorflow/tf-keras-datasets/mnist.npz\n",
      "\u001b[1m11490434/11490434\u001b[0m \u001b[32m━━━━━━━━━━━━━━━━━━━━\u001b[0m\u001b[37m\u001b[0m \u001b[1m3s\u001b[0m 0us/step\n"
     ]
    }
   ],
   "source": [
    "(X_train_full, y_train_full), (X_test, y_test) = digit_mnist.load_data()\n",
    "X_train_full = X_train_full / 255.0\n",
    "X_test = X_test / 255.0"
   ]
  },
  {
   "cell_type": "markdown",
   "id": "e23b1589-f77e-4061-9e99-f0a3bffd7740",
   "metadata": {},
   "source": [
    "* We import the data using 'load_data()' method from the MNIST dataset.\n",
    "* The pixel values are normalized to the range [0,1] by dividing by 255.0."
   ]
  },
  {
   "cell_type": "markdown",
   "id": "c2201992-cc34-4b4e-b90c-41cc7d76dfa6",
   "metadata": {},
   "source": [
    "# Step 4: Creating Validation set"
   ]
  },
  {
   "cell_type": "code",
   "execution_count": 5,
   "id": "b359b612-7c13-483b-8978-7b8ec7dbdaf0",
   "metadata": {},
   "outputs": [],
   "source": [
    "X_valid, X_train = X_train_full[:6000], X_train_full[6000:]\n",
    "y_valid, y_train = y_train_full[:6000], y_train_full[6000:]"
   ]
  },
  {
   "cell_type": "markdown",
   "id": "eaf6d3af-914d-4510-bc52-81d68bceec2b",
   "metadata": {},
   "source": [
    "* We split the training data into a validation set('X_valid','y_valid') and a reduced training set ('X_train','y_train')."
   ]
  },
  {
   "cell_type": "markdown",
   "id": "fea7a8d6-5a9f-4b4e-88dc-7f3d0d6092e7",
   "metadata": {},
   "source": [
    "# Step 5: Creating the ANN Model"
   ]
  },
  {
   "cell_type": "code",
   "execution_count": 6,
   "id": "79fe493a-9bd4-4e32-bf6c-d2ef904da62c",
   "metadata": {},
   "outputs": [
    {
     "name": "stderr",
     "output_type": "stream",
     "text": [
      "C:\\Users\\prem3\\AppData\\Roaming\\Python\\Python311\\site-packages\\keras\\src\\layers\\reshaping\\flatten.py:37: UserWarning: Do not pass an `input_shape`/`input_dim` argument to a layer. When using Sequential models, prefer using an `Input(shape)` object as the first layer in the model instead.\n",
      "  super().__init__(**kwargs)\n"
     ]
    }
   ],
   "source": [
    "model = keras.models.Sequential([\n",
    "    keras.layers.Flatten(input_shape=[28, 28]),\n",
    "    keras.layers.Dense(200, activation=\"relu\"),\n",
    "    keras.layers.Dense(100, activation=\"relu\"),\n",
    "    keras.layers.Dense(10, activation=\"softmax\")\n",
    "])"
   ]
  },
  {
   "cell_type": "markdown",
   "id": "81474294-28ff-471b-b2f1-94a26c1aa9fc",
   "metadata": {},
   "source": [
    "# Step 6: Compiling the Model"
   ]
  },
  {
   "cell_type": "code",
   "execution_count": 7,
   "id": "30642847-abfc-4f31-81b7-44f807de3192",
   "metadata": {},
   "outputs": [],
   "source": [
    "model.compile(loss=\"sparse_categorical_crossentropy\",\n",
    "              optimizer=\"sgd\",\n",
    "              metrics=[\"accuracy\"])"
   ]
  },
  {
   "cell_type": "markdown",
   "id": "1f295a36-d0e8-454d-b6a7-87884d163546",
   "metadata": {},
   "source": [
    "* We compile the model specifying the loss function, optimizer, and metrics to monitor during training."
   ]
  },
  {
   "cell_type": "markdown",
   "id": "9291a9e7-81e3-4f99-a28e-e69b36676570",
   "metadata": {},
   "source": [
    "# Step 7: Training the Model"
   ]
  },
  {
   "cell_type": "code",
   "execution_count": 8,
   "id": "608214d2-3bd4-4f58-9710-e4e7c839cc7f",
   "metadata": {},
   "outputs": [
    {
     "name": "stdout",
     "output_type": "stream",
     "text": [
      "Epoch 1/60\n",
      "\u001b[1m1688/1688\u001b[0m \u001b[32m━━━━━━━━━━━━━━━━━━━━\u001b[0m\u001b[37m\u001b[0m \u001b[1m10s\u001b[0m 5ms/step - accuracy: 0.7183 - loss: 1.0777 - val_accuracy: 0.9122 - val_loss: 0.3208\n",
      "Epoch 2/60\n",
      "\u001b[1m1688/1688\u001b[0m \u001b[32m━━━━━━━━━━━━━━━━━━━━\u001b[0m\u001b[37m\u001b[0m \u001b[1m7s\u001b[0m 4ms/step - accuracy: 0.9087 - loss: 0.3206 - val_accuracy: 0.9288 - val_loss: 0.2505\n",
      "Epoch 3/60\n",
      "\u001b[1m1688/1688\u001b[0m \u001b[32m━━━━━━━━━━━━━━━━━━━━\u001b[0m\u001b[37m\u001b[0m \u001b[1m7s\u001b[0m 4ms/step - accuracy: 0.9264 - loss: 0.2564 - val_accuracy: 0.9390 - val_loss: 0.2167\n",
      "Epoch 4/60\n",
      "\u001b[1m1688/1688\u001b[0m \u001b[32m━━━━━━━━━━━━━━━━━━━━\u001b[0m\u001b[37m\u001b[0m \u001b[1m7s\u001b[0m 4ms/step - accuracy: 0.9395 - loss: 0.2135 - val_accuracy: 0.9473 - val_loss: 0.1921\n",
      "Epoch 5/60\n",
      "\u001b[1m1688/1688\u001b[0m \u001b[32m━━━━━━━━━━━━━━━━━━━━\u001b[0m\u001b[37m\u001b[0m \u001b[1m7s\u001b[0m 4ms/step - accuracy: 0.9469 - loss: 0.1909 - val_accuracy: 0.9497 - val_loss: 0.1755\n",
      "Epoch 6/60\n",
      "\u001b[1m1688/1688\u001b[0m \u001b[32m━━━━━━━━━━━━━━━━━━━━\u001b[0m\u001b[37m\u001b[0m \u001b[1m7s\u001b[0m 4ms/step - accuracy: 0.9520 - loss: 0.1696 - val_accuracy: 0.9558 - val_loss: 0.1561\n",
      "Epoch 7/60\n",
      "\u001b[1m1688/1688\u001b[0m \u001b[32m━━━━━━━━━━━━━━━━━━━━\u001b[0m\u001b[37m\u001b[0m \u001b[1m7s\u001b[0m 4ms/step - accuracy: 0.9566 - loss: 0.1552 - val_accuracy: 0.9598 - val_loss: 0.1461\n",
      "Epoch 8/60\n",
      "\u001b[1m1688/1688\u001b[0m \u001b[32m━━━━━━━━━━━━━━━━━━━━\u001b[0m\u001b[37m\u001b[0m \u001b[1m7s\u001b[0m 4ms/step - accuracy: 0.9598 - loss: 0.1397 - val_accuracy: 0.9620 - val_loss: 0.1355\n",
      "Epoch 9/60\n",
      "\u001b[1m1688/1688\u001b[0m \u001b[32m━━━━━━━━━━━━━━━━━━━━\u001b[0m\u001b[37m\u001b[0m \u001b[1m7s\u001b[0m 4ms/step - accuracy: 0.9651 - loss: 0.1249 - val_accuracy: 0.9650 - val_loss: 0.1259\n",
      "Epoch 10/60\n",
      "\u001b[1m1688/1688\u001b[0m \u001b[32m━━━━━━━━━━━━━━━━━━━━\u001b[0m\u001b[37m\u001b[0m \u001b[1m7s\u001b[0m 4ms/step - accuracy: 0.9680 - loss: 0.1117 - val_accuracy: 0.9668 - val_loss: 0.1197\n",
      "Epoch 11/60\n",
      "\u001b[1m1688/1688\u001b[0m \u001b[32m━━━━━━━━━━━━━━━━━━━━\u001b[0m\u001b[37m\u001b[0m \u001b[1m7s\u001b[0m 4ms/step - accuracy: 0.9686 - loss: 0.1101 - val_accuracy: 0.9662 - val_loss: 0.1143\n",
      "Epoch 12/60\n",
      "\u001b[1m1688/1688\u001b[0m \u001b[32m━━━━━━━━━━━━━━━━━━━━\u001b[0m\u001b[37m\u001b[0m \u001b[1m7s\u001b[0m 4ms/step - accuracy: 0.9718 - loss: 0.0993 - val_accuracy: 0.9690 - val_loss: 0.1104\n",
      "Epoch 13/60\n",
      "\u001b[1m1688/1688\u001b[0m \u001b[32m━━━━━━━━━━━━━━━━━━━━\u001b[0m\u001b[37m\u001b[0m \u001b[1m7s\u001b[0m 4ms/step - accuracy: 0.9731 - loss: 0.0944 - val_accuracy: 0.9683 - val_loss: 0.1037\n",
      "Epoch 14/60\n",
      "\u001b[1m1688/1688\u001b[0m \u001b[32m━━━━━━━━━━━━━━━━━━━━\u001b[0m\u001b[37m\u001b[0m \u001b[1m7s\u001b[0m 4ms/step - accuracy: 0.9764 - loss: 0.0846 - val_accuracy: 0.9708 - val_loss: 0.0983\n",
      "Epoch 15/60\n",
      "\u001b[1m1688/1688\u001b[0m \u001b[32m━━━━━━━━━━━━━━━━━━━━\u001b[0m\u001b[37m\u001b[0m \u001b[1m7s\u001b[0m 4ms/step - accuracy: 0.9786 - loss: 0.0758 - val_accuracy: 0.9722 - val_loss: 0.0981\n",
      "Epoch 16/60\n",
      "\u001b[1m1688/1688\u001b[0m \u001b[32m━━━━━━━━━━━━━━━━━━━━\u001b[0m\u001b[37m\u001b[0m \u001b[1m7s\u001b[0m 4ms/step - accuracy: 0.9797 - loss: 0.0734 - val_accuracy: 0.9732 - val_loss: 0.0927\n",
      "Epoch 17/60\n",
      "\u001b[1m1688/1688\u001b[0m \u001b[32m━━━━━━━━━━━━━━━━━━━━\u001b[0m\u001b[37m\u001b[0m \u001b[1m7s\u001b[0m 4ms/step - accuracy: 0.9796 - loss: 0.0704 - val_accuracy: 0.9732 - val_loss: 0.0893\n",
      "Epoch 18/60\n",
      "\u001b[1m1688/1688\u001b[0m \u001b[32m━━━━━━━━━━━━━━━━━━━━\u001b[0m\u001b[37m\u001b[0m \u001b[1m7s\u001b[0m 4ms/step - accuracy: 0.9823 - loss: 0.0624 - val_accuracy: 0.9740 - val_loss: 0.0865\n",
      "Epoch 19/60\n",
      "\u001b[1m1688/1688\u001b[0m \u001b[32m━━━━━━━━━━━━━━━━━━━━\u001b[0m\u001b[37m\u001b[0m \u001b[1m7s\u001b[0m 4ms/step - accuracy: 0.9826 - loss: 0.0591 - val_accuracy: 0.9735 - val_loss: 0.0899\n",
      "Epoch 20/60\n",
      "\u001b[1m1688/1688\u001b[0m \u001b[32m━━━━━━━━━━━━━━━━━━━━\u001b[0m\u001b[37m\u001b[0m \u001b[1m7s\u001b[0m 4ms/step - accuracy: 0.9842 - loss: 0.0565 - val_accuracy: 0.9742 - val_loss: 0.0844\n",
      "Epoch 21/60\n",
      "\u001b[1m1688/1688\u001b[0m \u001b[32m━━━━━━━━━━━━━━━━━━━━\u001b[0m\u001b[37m\u001b[0m \u001b[1m7s\u001b[0m 4ms/step - accuracy: 0.9854 - loss: 0.0558 - val_accuracy: 0.9762 - val_loss: 0.0792\n",
      "Epoch 22/60\n",
      "\u001b[1m1688/1688\u001b[0m \u001b[32m━━━━━━━━━━━━━━━━━━━━\u001b[0m\u001b[37m\u001b[0m \u001b[1m7s\u001b[0m 4ms/step - accuracy: 0.9866 - loss: 0.0507 - val_accuracy: 0.9752 - val_loss: 0.0793\n",
      "Epoch 23/60\n",
      "\u001b[1m1688/1688\u001b[0m \u001b[32m━━━━━━━━━━━━━━━━━━━━\u001b[0m\u001b[37m\u001b[0m \u001b[1m6s\u001b[0m 4ms/step - accuracy: 0.9864 - loss: 0.0490 - val_accuracy: 0.9762 - val_loss: 0.0775\n",
      "Epoch 24/60\n",
      "\u001b[1m1688/1688\u001b[0m \u001b[32m━━━━━━━━━━━━━━━━━━━━\u001b[0m\u001b[37m\u001b[0m \u001b[1m7s\u001b[0m 4ms/step - accuracy: 0.9881 - loss: 0.0453 - val_accuracy: 0.9758 - val_loss: 0.0786\n",
      "Epoch 25/60\n",
      "\u001b[1m1688/1688\u001b[0m \u001b[32m━━━━━━━━━━━━━━━━━━━━\u001b[0m\u001b[37m\u001b[0m \u001b[1m7s\u001b[0m 4ms/step - accuracy: 0.9891 - loss: 0.0440 - val_accuracy: 0.9772 - val_loss: 0.0736\n",
      "Epoch 26/60\n",
      "\u001b[1m1688/1688\u001b[0m \u001b[32m━━━━━━━━━━━━━━━━━━━━\u001b[0m\u001b[37m\u001b[0m \u001b[1m7s\u001b[0m 4ms/step - accuracy: 0.9893 - loss: 0.0409 - val_accuracy: 0.9763 - val_loss: 0.0747\n",
      "Epoch 27/60\n",
      "\u001b[1m1688/1688\u001b[0m \u001b[32m━━━━━━━━━━━━━━━━━━━━\u001b[0m\u001b[37m\u001b[0m \u001b[1m10s\u001b[0m 4ms/step - accuracy: 0.9904 - loss: 0.0395 - val_accuracy: 0.9763 - val_loss: 0.0738\n",
      "Epoch 28/60\n",
      "\u001b[1m1688/1688\u001b[0m \u001b[32m━━━━━━━━━━━━━━━━━━━━\u001b[0m\u001b[37m\u001b[0m \u001b[1m7s\u001b[0m 4ms/step - accuracy: 0.9911 - loss: 0.0363 - val_accuracy: 0.9777 - val_loss: 0.0740\n",
      "Epoch 29/60\n",
      "\u001b[1m1688/1688\u001b[0m \u001b[32m━━━━━━━━━━━━━━━━━━━━\u001b[0m\u001b[37m\u001b[0m \u001b[1m7s\u001b[0m 4ms/step - accuracy: 0.9909 - loss: 0.0351 - val_accuracy: 0.9772 - val_loss: 0.0718\n",
      "Epoch 30/60\n",
      "\u001b[1m1688/1688\u001b[0m \u001b[32m━━━━━━━━━━━━━━━━━━━━\u001b[0m\u001b[37m\u001b[0m \u001b[1m7s\u001b[0m 4ms/step - accuracy: 0.9923 - loss: 0.0330 - val_accuracy: 0.9783 - val_loss: 0.0723\n",
      "Epoch 31/60\n",
      "\u001b[1m1688/1688\u001b[0m \u001b[32m━━━━━━━━━━━━━━━━━━━━\u001b[0m\u001b[37m\u001b[0m \u001b[1m7s\u001b[0m 4ms/step - accuracy: 0.9928 - loss: 0.0298 - val_accuracy: 0.9780 - val_loss: 0.0708\n",
      "Epoch 32/60\n",
      "\u001b[1m1688/1688\u001b[0m \u001b[32m━━━━━━━━━━━━━━━━━━━━\u001b[0m\u001b[37m\u001b[0m \u001b[1m7s\u001b[0m 4ms/step - accuracy: 0.9922 - loss: 0.0307 - val_accuracy: 0.9785 - val_loss: 0.0716\n",
      "Epoch 33/60\n",
      "\u001b[1m1688/1688\u001b[0m \u001b[32m━━━━━━━━━━━━━━━━━━━━\u001b[0m\u001b[37m\u001b[0m \u001b[1m7s\u001b[0m 4ms/step - accuracy: 0.9933 - loss: 0.0291 - val_accuracy: 0.9792 - val_loss: 0.0704\n",
      "Epoch 34/60\n",
      "\u001b[1m1688/1688\u001b[0m \u001b[32m━━━━━━━━━━━━━━━━━━━━\u001b[0m\u001b[37m\u001b[0m \u001b[1m7s\u001b[0m 4ms/step - accuracy: 0.9942 - loss: 0.0264 - val_accuracy: 0.9783 - val_loss: 0.0703\n",
      "Epoch 35/60\n",
      "\u001b[1m1688/1688\u001b[0m \u001b[32m━━━━━━━━━━━━━━━━━━━━\u001b[0m\u001b[37m\u001b[0m \u001b[1m7s\u001b[0m 4ms/step - accuracy: 0.9951 - loss: 0.0239 - val_accuracy: 0.9777 - val_loss: 0.0727\n",
      "Epoch 36/60\n",
      "\u001b[1m1688/1688\u001b[0m \u001b[32m━━━━━━━━━━━━━━━━━━━━\u001b[0m\u001b[37m\u001b[0m \u001b[1m7s\u001b[0m 4ms/step - accuracy: 0.9949 - loss: 0.0246 - val_accuracy: 0.9785 - val_loss: 0.0700\n",
      "Epoch 37/60\n",
      "\u001b[1m1688/1688\u001b[0m \u001b[32m━━━━━━━━━━━━━━━━━━━━\u001b[0m\u001b[37m\u001b[0m \u001b[1m7s\u001b[0m 4ms/step - accuracy: 0.9955 - loss: 0.0224 - val_accuracy: 0.9792 - val_loss: 0.0711\n",
      "Epoch 38/60\n",
      "\u001b[1m1688/1688\u001b[0m \u001b[32m━━━━━━━━━━━━━━━━━━━━\u001b[0m\u001b[37m\u001b[0m \u001b[1m7s\u001b[0m 4ms/step - accuracy: 0.9965 - loss: 0.0209 - val_accuracy: 0.9787 - val_loss: 0.0698\n",
      "Epoch 39/60\n",
      "\u001b[1m1688/1688\u001b[0m \u001b[32m━━━━━━━━━━━━━━━━━━━━\u001b[0m\u001b[37m\u001b[0m \u001b[1m7s\u001b[0m 4ms/step - accuracy: 0.9963 - loss: 0.0203 - val_accuracy: 0.9792 - val_loss: 0.0692\n",
      "Epoch 40/60\n",
      "\u001b[1m1688/1688\u001b[0m \u001b[32m━━━━━━━━━━━━━━━━━━━━\u001b[0m\u001b[37m\u001b[0m \u001b[1m7s\u001b[0m 4ms/step - accuracy: 0.9966 - loss: 0.0193 - val_accuracy: 0.9782 - val_loss: 0.0694\n",
      "Epoch 41/60\n",
      "\u001b[1m1688/1688\u001b[0m \u001b[32m━━━━━━━━━━━━━━━━━━━━\u001b[0m\u001b[37m\u001b[0m \u001b[1m7s\u001b[0m 4ms/step - accuracy: 0.9968 - loss: 0.0195 - val_accuracy: 0.9772 - val_loss: 0.0756\n",
      "Epoch 42/60\n",
      "\u001b[1m1688/1688\u001b[0m \u001b[32m━━━━━━━━━━━━━━━━━━━━\u001b[0m\u001b[37m\u001b[0m \u001b[1m7s\u001b[0m 4ms/step - accuracy: 0.9968 - loss: 0.0181 - val_accuracy: 0.9795 - val_loss: 0.0695\n",
      "Epoch 43/60\n",
      "\u001b[1m1688/1688\u001b[0m \u001b[32m━━━━━━━━━━━━━━━━━━━━\u001b[0m\u001b[37m\u001b[0m \u001b[1m10s\u001b[0m 4ms/step - accuracy: 0.9975 - loss: 0.0163 - val_accuracy: 0.9768 - val_loss: 0.0828\n",
      "Epoch 44/60\n",
      "\u001b[1m1688/1688\u001b[0m \u001b[32m━━━━━━━━━━━━━━━━━━━━\u001b[0m\u001b[37m\u001b[0m \u001b[1m7s\u001b[0m 4ms/step - accuracy: 0.9969 - loss: 0.0171 - val_accuracy: 0.9803 - val_loss: 0.0685\n",
      "Epoch 45/60\n",
      "\u001b[1m1688/1688\u001b[0m \u001b[32m━━━━━━━━━━━━━━━━━━━━\u001b[0m\u001b[37m\u001b[0m \u001b[1m7s\u001b[0m 4ms/step - accuracy: 0.9977 - loss: 0.0152 - val_accuracy: 0.9797 - val_loss: 0.0689\n",
      "Epoch 46/60\n",
      "\u001b[1m1688/1688\u001b[0m \u001b[32m━━━━━━━━━━━━━━━━━━━━\u001b[0m\u001b[37m\u001b[0m \u001b[1m7s\u001b[0m 4ms/step - accuracy: 0.9979 - loss: 0.0155 - val_accuracy: 0.9807 - val_loss: 0.0676\n",
      "Epoch 47/60\n",
      "\u001b[1m1688/1688\u001b[0m \u001b[32m━━━━━━━━━━━━━━━━━━━━\u001b[0m\u001b[37m\u001b[0m \u001b[1m7s\u001b[0m 4ms/step - accuracy: 0.9981 - loss: 0.0137 - val_accuracy: 0.9800 - val_loss: 0.0692\n",
      "Epoch 48/60\n",
      "\u001b[1m1688/1688\u001b[0m \u001b[32m━━━━━━━━━━━━━━━━━━━━\u001b[0m\u001b[37m\u001b[0m \u001b[1m6s\u001b[0m 4ms/step - accuracy: 0.9983 - loss: 0.0141 - val_accuracy: 0.9798 - val_loss: 0.0699\n",
      "Epoch 49/60\n",
      "\u001b[1m1688/1688\u001b[0m \u001b[32m━━━━━━━━━━━━━━━━━━━━\u001b[0m\u001b[37m\u001b[0m \u001b[1m7s\u001b[0m 4ms/step - accuracy: 0.9982 - loss: 0.0141 - val_accuracy: 0.9792 - val_loss: 0.0719\n",
      "Epoch 50/60\n",
      "\u001b[1m1688/1688\u001b[0m \u001b[32m━━━━━━━━━━━━━━━━━━━━\u001b[0m\u001b[37m\u001b[0m \u001b[1m7s\u001b[0m 4ms/step - accuracy: 0.9987 - loss: 0.0130 - val_accuracy: 0.9802 - val_loss: 0.0692\n",
      "Epoch 51/60\n",
      "\u001b[1m1688/1688\u001b[0m \u001b[32m━━━━━━━━━━━━━━━━━━━━\u001b[0m\u001b[37m\u001b[0m \u001b[1m7s\u001b[0m 4ms/step - accuracy: 0.9988 - loss: 0.0118 - val_accuracy: 0.9787 - val_loss: 0.0740\n",
      "Epoch 52/60\n",
      "\u001b[1m1688/1688\u001b[0m \u001b[32m━━━━━━━━━━━━━━━━━━━━\u001b[0m\u001b[37m\u001b[0m \u001b[1m7s\u001b[0m 4ms/step - accuracy: 0.9990 - loss: 0.0111 - val_accuracy: 0.9798 - val_loss: 0.0700\n",
      "Epoch 53/60\n",
      "\u001b[1m1688/1688\u001b[0m \u001b[32m━━━━━━━━━━━━━━━━━━━━\u001b[0m\u001b[37m\u001b[0m \u001b[1m6s\u001b[0m 4ms/step - accuracy: 0.9987 - loss: 0.0109 - val_accuracy: 0.9795 - val_loss: 0.0718\n",
      "Epoch 54/60\n",
      "\u001b[1m1688/1688\u001b[0m \u001b[32m━━━━━━━━━━━━━━━━━━━━\u001b[0m\u001b[37m\u001b[0m \u001b[1m7s\u001b[0m 4ms/step - accuracy: 0.9994 - loss: 0.0099 - val_accuracy: 0.9805 - val_loss: 0.0698\n",
      "Epoch 55/60\n",
      "\u001b[1m1688/1688\u001b[0m \u001b[32m━━━━━━━━━━━━━━━━━━━━\u001b[0m\u001b[37m\u001b[0m \u001b[1m7s\u001b[0m 4ms/step - accuracy: 0.9991 - loss: 0.0098 - val_accuracy: 0.9803 - val_loss: 0.0707\n",
      "Epoch 56/60\n",
      "\u001b[1m1688/1688\u001b[0m \u001b[32m━━━━━━━━━━━━━━━━━━━━\u001b[0m\u001b[37m\u001b[0m \u001b[1m7s\u001b[0m 4ms/step - accuracy: 0.9993 - loss: 0.0093 - val_accuracy: 0.9798 - val_loss: 0.0726\n",
      "Epoch 57/60\n",
      "\u001b[1m1688/1688\u001b[0m \u001b[32m━━━━━━━━━━━━━━━━━━━━\u001b[0m\u001b[37m\u001b[0m \u001b[1m9s\u001b[0m 5ms/step - accuracy: 0.9993 - loss: 0.0096 - val_accuracy: 0.9797 - val_loss: 0.0701\n",
      "Epoch 58/60\n",
      "\u001b[1m1688/1688\u001b[0m \u001b[32m━━━━━━━━━━━━━━━━━━━━\u001b[0m\u001b[37m\u001b[0m \u001b[1m7s\u001b[0m 4ms/step - accuracy: 0.9992 - loss: 0.0088 - val_accuracy: 0.9808 - val_loss: 0.0706\n",
      "Epoch 59/60\n",
      "\u001b[1m1688/1688\u001b[0m \u001b[32m━━━━━━━━━━━━━━━━━━━━\u001b[0m\u001b[37m\u001b[0m \u001b[1m7s\u001b[0m 4ms/step - accuracy: 0.9993 - loss: 0.0086 - val_accuracy: 0.9805 - val_loss: 0.0703\n",
      "Epoch 60/60\n",
      "\u001b[1m1688/1688\u001b[0m \u001b[32m━━━━━━━━━━━━━━━━━━━━\u001b[0m\u001b[37m\u001b[0m \u001b[1m7s\u001b[0m 4ms/step - accuracy: 0.9993 - loss: 0.0083 - val_accuracy: 0.9803 - val_loss: 0.0716\n"
     ]
    }
   ],
   "source": [
    "history = model.fit(X_train, y_train, epochs=60,\n",
    "                    validation_data=(X_valid, y_valid))"
   ]
  },
  {
   "cell_type": "markdown",
   "id": "cfbe619c-a820-4d26-b470-7ef3afc8a721",
   "metadata": {},
   "source": [
    "* We train the model using the 'fit()' method on the training data.\n",
    "* We specify the number of epochs (60) and the validation data to monitor the model's performance on the validation set during training."
   ]
  },
  {
   "cell_type": "markdown",
   "id": "02039965-c430-4e9d-bd00-6d5f4f7e7e05",
   "metadata": {},
   "source": [
    "# Step 8: Plotting Loss and Accuracy"
   ]
  },
  {
   "cell_type": "code",
   "execution_count": 9,
   "id": "824501cd-e825-467e-8161-abd431c49c0a",
   "metadata": {},
   "outputs": [
    {
     "data": {
      "image/png": "[encoded data removed]",
      "text/plain": [
       "<Figure size 640x480 with 1 Axes>"
      ]
     },
     "metadata": {},
     "output_type": "display_data"
    },
    {
     "data": {
      "image/png": "[encoded data removed]",
      "text/plain": [
       "<Figure size 640x480 with 1 Axes>"
      ]
     },
     "metadata": {},
     "output_type": "display_data"
    }
   ],
   "source": [
    "plt.plot(history.history['loss'], label='Training Loss')\n",
    "plt.plot(history.history['val_loss'], label='Validation Loss')\n",
    "plt.xlabel('Epoch')\n",
    "plt.ylabel('Loss')\n",
    "plt.legend()\n",
    "plt.show()\n",
    "\n",
    "plt.plot(history.history['accuracy'], label='Training Accuracy')\n",
    "plt.plot(history.history['val_accuracy'], label='Validation Accuracy')\n",
    "plt.xlabel('Epoch')\n",
    "plt.ylabel('Accuracy')\n",
    "plt.legend()\n",
    "plt.show()"
   ]
  },
  {
   "cell_type": "markdown",
   "id": "1e3655d8-64cb-468f-a1f1-6e0d1654e11a",
   "metadata": {},
   "source": [
    "* We plot the training and validation loss against the number of epochs to visualize the model's learning curve.\n",
    "* Similarly, we plot the training and validation accuracy against the number of epochs."
   ]
  },
  {
   "cell_type": "markdown",
   "id": "ac077f71-d06c-4242-92f4-3e425496e34f",
   "metadata": {},
   "source": [
    "# Step 9: Evaluating the Model on the Test Dataset"
   ]
  },
  {
   "cell_type": "code",
   "execution_count": 10,
   "id": "6bdc8de7-5561-4d5b-a285-3206f3f657e7",
   "metadata": {},
   "outputs": [
    {
     "name": "stdout",
     "output_type": "stream",
     "text": [
      "\u001b[1m313/313\u001b[0m \u001b[32m━━━━━━━━━━━━━━━━━━━━\u001b[0m\u001b[37m\u001b[0m \u001b[1m1s\u001b[0m 3ms/step - accuracy: 0.9741 - loss: 0.0906\n",
      "Test Loss: 0.07324066758155823\n",
      "Test Accuracy: 0.9783999919891357\n"
     ]
    }
   ],
   "source": [
    "test_loss, test_accuracy = model.evaluate(X_test, y_test)\n",
    "print(\"Test Loss:\", test_loss)\n",
    "print(\"Test Accuracy:\", test_accuracy)"
   ]
  },
  {
   "cell_type": "markdown",
   "id": "11188162-0d23-48fd-8bd3-41220beb26a3",
   "metadata": {},
   "source": [
    "* We evaluate the trained model on the test dataset using the 'evaluate()' method.\n",
    "* We print the test loss and accuracy."
   ]
  },
  {
   "cell_type": "markdown",
   "id": "dadb6860-f6da-4538-9375-e03af51d7039",
   "metadata": {},
   "source": [
    "# Step 10: Making Predictions"
   ]
  },
  {
   "cell_type": "code",
   "execution_count": 11,
   "id": "6fff3fba-ce0b-468e-9d81-aa84458245a5",
   "metadata": {},
   "outputs": [
    {
     "name": "stdout",
     "output_type": "stream",
     "text": [
      "\u001b[1m1/1\u001b[0m \u001b[32m━━━━━━━━━━━━━━━━━━━━\u001b[0m\u001b[37m\u001b[0m \u001b[1m0s\u001b[0m 206ms/step\n",
      "Predicted Labels for the first 5 records: [7 2 1 0 4]\n"
     ]
    }
   ],
   "source": [
    "predictions = model.predict(X_test[:5])\n",
    "predicted_labels = np.argmax(predictions, axis=1)\n",
    "print(\"Predicted Labels for the first 5 records:\", predicted_labels)"
   ]
  },
  {
   "cell_type": "markdown",
   "id": "fc44df02-316a-4a71-98c6-7cfbd9f0896e",
   "metadata": {},
   "source": [
    "* We make predictions on the first 5 records of the test dataset using the 'predict()' method.\n",
    "* We extract the predicted labels by taking the index of the maximum value along the axis=1 (i.e., along the columns).\n",
    "* Finally, we print the predicted labels"
   ]
  },
  {
   "cell_type": "code",
   "execution_count": null,
   "id": "500682ab-5e24-40d3-91d1-f28392119557",
   "metadata": {},
   "outputs": [],
   "source": []
  }
 ],
 "metadata": {
  "kernelspec": {
   "display_name": "Python 3 (ipykernel)",
   "language": "python",
   "name": "python3"
  },
  "language_info": {
   "codemirror_mode": {
    "name": "ipython",
    "version": 3
   },
   "file_extension": ".py",
   "mimetype": "text/x-python",
   "name": "python",
   "nbconvert_exporter": "python",
   "pygments_lexer": "ipython3",
   "version": "3.11.7"
  }
 },
 "nbformat": 4,
 "nbformat_minor": 5
}
